{
 "cells": [
  {
   "cell_type": "markdown",
   "metadata": {},
   "source": [
    "## YT Video to TXT file conversion"
   ]
  },
  {
   "cell_type": "code",
   "execution_count": 18,
   "metadata": {},
   "outputs": [
    {
     "name": "stdout",
     "output_type": "stream",
     "text": [
      "Requirement already satisfied: pytube in c:\\users\\usuario\\anaconda3\\lib\\site-packages (15.0.0)\n",
      "Collecting moviepy\n",
      "  Using cached https://files.pythonhosted.org/packages/61/ee/ef46fdfbdc7e1316da60142ffc1867e6e12a22341636dce62856bb325272/moviepy-2.1.2-py3-none-any.whl\n",
      "Requirement already satisfied: youtube-transcript-api in c:\\users\\usuario\\anaconda3\\lib\\site-packages (0.6.2)\n",
      "Collecting yt-dlp\n",
      "  Using cached https://files.pythonhosted.org/packages/31/5a/d9b0a47a3aacf650b8ffc750bb5d296c24b2cc674f4c2a975895f49d4f0a/yt_dlp-2023.11.16-py2.py3-none-any.whl\n",
      "Collecting proglog<=1.0.0 (from moviepy)\n",
      "  Using cached https://files.pythonhosted.org/packages/8b/f5/cab5cf6a540c31f5099043de0ae43990fd9cf66f75ecb5e9f254a4e4d4ee/proglog-0.1.10-py3-none-any.whl\n",
      "Collecting numpy>=1.25.0 (from moviepy)\n"
     ]
    },
    {
     "name": "stderr",
     "output_type": "stream",
     "text": [
      "  Could not find a version that satisfies the requirement numpy>=1.25.0 (from moviepy) (from versions: 1.3.0, 1.4.1, 1.5.0, 1.5.1, 1.6.0, 1.6.1, 1.6.2, 1.7.0, 1.7.1, 1.7.2, 1.8.0, 1.8.1, 1.8.2, 1.9.0, 1.9.1, 1.9.2, 1.9.3, 1.10.0.post2, 1.10.1, 1.10.2, 1.10.4, 1.11.0, 1.11.1, 1.11.2, 1.11.3, 1.12.0, 1.12.1, 1.13.0, 1.13.1, 1.13.3, 1.14.0, 1.14.1, 1.14.2, 1.14.3, 1.14.4, 1.14.5, 1.14.6, 1.15.0, 1.15.1, 1.15.2, 1.15.3, 1.15.4, 1.16.0, 1.16.1, 1.16.2, 1.16.3, 1.16.4, 1.16.5, 1.16.6, 1.17.0, 1.17.1, 1.17.2, 1.17.3, 1.17.4, 1.17.5, 1.18.0, 1.18.1, 1.18.2, 1.18.3, 1.18.4, 1.18.5, 1.19.0, 1.19.1, 1.19.2, 1.19.3, 1.19.4, 1.19.5, 1.20.0, 1.20.1, 1.20.2, 1.20.3, 1.21.0, 1.21.1, 1.21.2, 1.21.3, 1.21.4, 1.21.5, 1.21.6)\n",
      "No matching distribution found for numpy>=1.25.0 (from moviepy)\n"
     ]
    }
   ],
   "source": [
    "#  Install Required Dependencies\n",
    "\n",
    "# Libraries for working with YouTube videos and subtitles:\n",
    "# pytube: to download the video\n",
    "# moviepy: to extract audio from the video\n",
    "# youtube-transcript-api: to get YouTube's automatic transcription (auto-generated subtitles)\n",
    "\n",
    "# Install necessary packages using pip:\n",
    "!pip install pytube moviepy youtube-transcript-api yt-dlp\n"
   ]
  },
  {
   "cell_type": "markdown",
   "metadata": {},
   "source": [
    "------"
   ]
  },
  {
   "cell_type": "markdown",
   "metadata": {},
   "source": [
    "------"
   ]
  },
  {
   "cell_type": "code",
   "execution_count": 19,
   "metadata": {},
   "outputs": [],
   "source": [
    "\"\"\"\n",
    "Before running this script, please check if the video has subtitles.\n",
    "Run the following command in your conda environment:\n",
    "\n",
    "    yt-dlp --list-subs \"https://www.youtube.com/watch?v=dQw4w9WgXcQ\"\n",
    "\n",
    "This ensures that the video you intend to process actually has subtitles.\n",
    "\"\"\"\n",
    "\n",
    "# Step 2: Import Required Libraries\n",
    "import os  # For working with the file system (directories, paths)\n",
    "import re  # For regular expressions (to extract timestamps from subtitle files)\n",
    "import yt_dlp  # For downloading video and subtitles"
   ]
  },
  {
   "cell_type": "code",
   "execution_count": 20,
   "metadata": {
    "code_folding": [
     2
    ]
   },
   "outputs": [],
   "source": [
    "def download_youtube_subtitles(\n",
    "    url_video,\n",
    "    output_directory,\n",
    "    ffmpeg_location,\n",
    "    video_title,\n",
    "    artist_name\n",
    "):\n",
    "    \"\"\"\n",
    "    Downloads subtitles from a YouTube video and saves them to a text file \n",
    "    following the standards for a valid text file for All Karaoke Party.\n",
    "    \n",
    "    The output file begins with a header containing the song title and artist.\n",
    "    \n",
    "    Parameters:\n",
    "    - url_video (str): URL of the YouTube video.\n",
    "    - output_directory (str): Path where the output file will be saved.\n",
    "    - ffmpeg_location (str): Full path to the FFmpeg executable.\n",
    "      FFmpeg is required to merge separate audio and video streams if necessary.\n",
    "    - video_title (str): Title of the video (used for header and output filename).\n",
    "    - artist_name (str): Artist name (used for header and output filename).\n",
    "    \n",
    "    Returns:\n",
    "    - None\n",
    "    \"\"\"\n",
    "    \n",
    "    # Set up yt-dlp options for downloading subtitles.\n",
    "    ydl_opts = {\n",
    "        'writeautomaticsub': True,    # Download automatic subtitles.\n",
    "        'writesubtitles': True,       # Download manual subtitles if available.\n",
    "        'subtitleslangs': ['en', 'en-orig'],  # Prefer English subtitles.\n",
    "        'outtmpl': 'song_temp.%(ext)s',  # Temporary filename.\n",
    "        'quiet': False,\n",
    "        'ffmpeg_location': ffmpeg_location  # FFmpeg location (required for merging).\n",
    "    }\n",
    "    \n",
    "    # Ensure the output directory exists.\n",
    "    os.makedirs(output_directory, exist_ok=True)\n",
    "\n",
    "    # Use yt_dlp to download the video and subtitles.\n",
    "    with yt_dlp.YoutubeDL(ydl_opts) as ydl:\n",
    "        _ = ydl.extract_info(url_video, download=False)\n",
    "        # Create the output file path using the provided title and artist.\n",
    "        output_filename = f\"song_txt_{video_title}_{artist_name}.txt\"\n",
    "        output_filepath = os.path.join(output_directory, output_filename)\n",
    "        \n",
    "        # Download the subtitles.\n",
    "        ydl.download([url_video])\n",
    "        \n",
    "        # Look for the temporary subtitle file.\n",
    "        subtitle_path = None\n",
    "        for ext in ['en.vtt', 'en-orig.vtt']:\n",
    "            temp_path = f\"song_temp.{ext}\"\n",
    "            if os.path.exists(temp_path):\n",
    "                subtitle_path = temp_path\n",
    "                break\n",
    "\n",
    "        if subtitle_path:\n",
    "            # Read the subtitle file.\n",
    "            with open(subtitle_path, 'r', encoding='utf-8') as file:\n",
    "                subtitle_content = file.read()\n",
    "\n",
    "            # Regular expression to match timestamps (format: hh:mm:ss.mmm --> hh:mm:ss.mmm).\n",
    "            timestamp_pattern = re.compile(\n",
    "                r\"(\\d{2}):(\\d{2}):(\\d{2})\\.(\\d{3}) --> \"\n",
    "                r\"(\\d{2}):(\\d{2}):(\\d{2})\\.(\\d{3})\"\n",
    "            )\n",
    "            lines = subtitle_content.splitlines()\n",
    "\n",
    "            # Write the output file with header metadata and subtitles with timestamps.\n",
    "            try:\n",
    "                with open(output_filepath, 'w', encoding='utf-8') as f:\n",
    "                    # Write header required by All Karaoke Party.\n",
    "                    f.write(f\"Title: {video_title}\\n\")\n",
    "                    f.write(f\"Artist: {artist_name}\\n\")\n",
    "                    f.write(\"\\n\")  # Blank line after header.\n",
    "                    \n",
    "                    content_written = False\n",
    "                    for i, line in enumerate(lines):\n",
    "                        line = line.strip()\n",
    "                        match = timestamp_pattern.match(line)\n",
    "                        if match:\n",
    "                            start_time = f\"{match.group(1)}:{match.group(2)}:{match.group(3)}.{match.group(4)}\"\n",
    "                            end_time = f\"{match.group(5)}:{match.group(6)}:{match.group(7)}.{match.group(8)}\"\n",
    "                            # The next line typically contains the subtitle text.\n",
    "                            if i + 1 < len(lines):\n",
    "                                subtitle_text = lines[i + 1].strip()\n",
    "                                f.write(f\"{start_time} - {end_time} {subtitle_text}\\n\")\n",
    "                                content_written = True\n",
    "                    if not content_written:\n",
    "                        print(\"Warning: No subtitle content was written to the file.\")\n",
    "                    else:\n",
    "                        print(f\"Subtitles saved to: {output_filepath}\")\n",
    "            except Exception as e:\n",
    "                print(f\"Error writing to file: {e}\")\n",
    "            # Remove the temporary subtitle file.\n",
    "            os.remove(subtitle_path)\n",
    "        else:\n",
    "            print(\"No subtitles found for this video.\")\n",
    "\n"
   ]
  },
  {
   "cell_type": "code",
   "execution_count": 21,
   "metadata": {},
   "outputs": [
    {
     "name": "stdout",
     "output_type": "stream",
     "text": [
      "[youtube] Extracting URL: https://www.youtube.com/watch?v=F3aXpa1rQEY\n",
      "[youtube] F3aXpa1rQEY: Downloading webpage\n",
      "[youtube] F3aXpa1rQEY: Downloading tv client config\n",
      "[youtube] F3aXpa1rQEY: Downloading player 363db69b\n",
      "[youtube] F3aXpa1rQEY: Downloading tv player API JSON\n",
      "[youtube] F3aXpa1rQEY: Downloading ios player API JSON\n"
     ]
    },
    {
     "name": "stderr",
     "output_type": "stream",
     "text": [
      "WARNING: [youtube] F3aXpa1rQEY: Signature extraction failed: Some formats may be missing\n"
     ]
    },
    {
     "name": "stdout",
     "output_type": "stream",
     "text": [
      "[youtube] F3aXpa1rQEY: Downloading m3u8 information\n",
      "[info] F3aXpa1rQEY: Downloading subtitles: en\n",
      "[youtube] Extracting URL: https://www.youtube.com/watch?v=F3aXpa1rQEY\n",
      "[youtube] F3aXpa1rQEY: Downloading webpage\n",
      "[youtube] F3aXpa1rQEY: Downloading tv client config\n",
      "[youtube] F3aXpa1rQEY: Downloading tv player API JSON\n",
      "[youtube] F3aXpa1rQEY: Downloading ios player API JSON\n"
     ]
    },
    {
     "name": "stderr",
     "output_type": "stream",
     "text": [
      "WARNING: [youtube] F3aXpa1rQEY: Signature extraction failed: Some formats may be missing\n"
     ]
    },
    {
     "name": "stdout",
     "output_type": "stream",
     "text": [
      "[youtube] F3aXpa1rQEY: Downloading m3u8 information\n",
      "[info] F3aXpa1rQEY: Downloading subtitles: en\n",
      "[info] F3aXpa1rQEY: Downloading 1 format(s): 616+234\n",
      "[info] Writing video subtitles to: song_temp.en.vtt\n",
      "[hlsnative] Downloading m3u8 manifest\n",
      "[hlsnative] Total fragments: 1\n",
      "[download] Destination: song_temp.en.vtt\n",
      "[download] 100% of    4.10KiB in 00:00:00 at 41.54KiB/s                \n",
      "[download] song_temp.mp4 has already been downloaded\n",
      "Subtitles saved to: C:\\Users\\usuario\\Desktop\\MÉS\\Karaoke\\song_txt_the_man_taylor_swift.txt\n"
     ]
    }
   ],
   "source": [
    "# Example usage:\n",
    "if __name__ == \"__main__\":\n",
    "    # Provide the full path to your FFmpeg executable (required for merging streams).\n",
    "    ffmpeg_path = r'C:\\Users\\usuario\\Anaconda3\\envs\\songtotxt\\Library\\bin\\ffmpeg.exe'\n",
    "    \n",
    "    # Set your desired output directory.\n",
    "    output_dir = r\"C:\\Users\\usuario\\Desktop\\MÉS\\Karaoke\"\n",
    "    \n",
    "    # Provide the YouTube video URL.\n",
    "    video_url = \"https://www.youtube.com/watch?v=F3aXpa1rQEY\"\n",
    "    \n",
    "    # Provide the song title and artist name.\n",
    "    video_title = \"the_man\"\n",
    "    artist_name = \"taylor_swift\"\n",
    "    \n",
    "    # Download and save the subtitles.\n",
    "    download_youtube_subtitles(\n",
    "        url_video=video_url,\n",
    "        output_directory=output_dir,\n",
    "        ffmpeg_location=ffmpeg_path,\n",
    "        video_title=video_title,\n",
    "        artist_name=artist_name\n",
    "    )"
   ]
  }
 ],
 "metadata": {
  "kernelspec": {
   "display_name": "Python (songtotxt)",
   "language": "python",
   "name": "songtotxt"
  },
  "language_info": {
   "codemirror_mode": {
    "name": "ipython",
    "version": 3
   },
   "file_extension": ".py",
   "mimetype": "text/x-python",
   "name": "python",
   "nbconvert_exporter": "python",
   "pygments_lexer": "ipython3",
   "version": "3.13.2"
  },
  "toc": {
   "base_numbering": 1,
   "nav_menu": {},
   "number_sections": true,
   "sideBar": true,
   "skip_h1_title": false,
   "title_cell": "Table of Contents",
   "title_sidebar": "Contents",
   "toc_cell": false,
   "toc_position": {},
   "toc_section_display": true,
   "toc_window_display": false
  },
  "varInspector": {
   "cols": {
    "lenName": 16,
    "lenType": 16,
    "lenVar": 40
   },
   "kernels_config": {
    "python": {
     "delete_cmd_postfix": "",
     "delete_cmd_prefix": "del ",
     "library": "var_list.py",
     "varRefreshCmd": "print(var_dic_list())"
    },
    "r": {
     "delete_cmd_postfix": ") ",
     "delete_cmd_prefix": "rm(",
     "library": "var_list.r",
     "varRefreshCmd": "cat(var_dic_list()) "
    }
   },
   "types_to_exclude": [
    "module",
    "function",
    "builtin_function_or_method",
    "instance",
    "_Feature"
   ],
   "window_display": false
  }
 },
 "nbformat": 4,
 "nbformat_minor": 2
}
