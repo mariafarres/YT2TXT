{
 "cells": [
  {
   "cell_type": "markdown",
   "metadata": {},
   "source": [
    "## YT Video to TXT file conversion"
   ]
  },
  {
   "cell_type": "code",
   "execution_count": null,
   "metadata": {},
   "outputs": [],
   "source": [
    "#  Install Required Dependencies\n",
    "\n",
    "# Libraries for working with YouTube videos and subtitles:\n",
    "# pytube: to download the video\n",
    "# moviepy: to extract audio from the video\n",
    "# youtube-transcript-api: to get YouTube's automatic transcription (auto-generated subtitles)\n",
    "\n",
    "# Install necessary packages using pip:\n",
    "!pip install pytube moviepy youtube-transcript-api yt-dlp\n"
   ]
  },
  {
   "cell_type": "markdown",
   "metadata": {},
   "source": [
    "------"
   ]
  },
  {
   "cell_type": "markdown",
   "metadata": {},
   "source": [
    "------"
   ]
  },
  {
   "cell_type": "code",
   "execution_count": null,
   "metadata": {},
   "outputs": [],
   "source": [
    "\"\"\"\n",
    "Before running this script, please check if the video has subtitles.\n",
    "Run the following command in your conda environment:\n",
    "\n",
    "    yt-dlp --list-subs \"https://www.youtube.com/watch?v=dQw4w9WgXcQ\"\n",
    "\n",
    "This ensures that the video you intend to process actually has subtitles.\n",
    "\"\"\"\n",
    "\n",
    "# Step 2: Import Required Libraries\n",
    "import os  # For working with the file system (directories, paths)\n",
    "import re  # For regular expressions (to extract timestamps from subtitle files)\n",
    "import yt_dlp  # For downloading video and subtitles"
   ]
  },
  {
   "cell_type": "code",
   "execution_count": null,
   "metadata": {
    "code_folding": [
     2
    ]
   },
   "outputs": [],
   "source": [
    "def download_youtube_subtitles(\n",
    "    url_video,\n",
    "    output_directory,\n",
    "    ffmpeg_location,\n",
    "    video_title,\n",
    "    artist_name\n",
    "):\n",
    "    \"\"\"\n",
    "    Downloads subtitles from a YouTube video and saves them to a text file \n",
    "    following the standards for a valid text file for All Karaoke Party.\n",
    "    \n",
    "    The output file begins with a header containing the song title and artist.\n",
    "    \n",
    "    Parameters:\n",
    "    - url_video (str): URL of the YouTube video.\n",
    "    - output_directory (str): Path where the output file will be saved.\n",
    "    - ffmpeg_location (str): Full path to the FFmpeg executable.\n",
    "      FFmpeg is required to merge separate audio and video streams if necessary.\n",
    "    - video_title (str): Title of the video (used for header and output filename).\n",
    "    - artist_name (str): Artist name (used for header and output filename).\n",
    "    \n",
    "    Returns:\n",
    "    - None\n",
    "    \"\"\"\n",
    "    \n",
    "    # Set up yt-dlp options for downloading subtitles.\n",
    "    ydl_opts = {\n",
    "        'writeautomaticsub': True,    # Download automatic subtitles.\n",
    "        'writesubtitles': True,       # Download manual subtitles if available.\n",
    "        'subtitleslangs': ['en', 'en-orig'],  # Prefer English subtitles.\n",
    "        'outtmpl': 'song_temp.%(ext)s',  # Temporary filename.\n",
    "        'quiet': False,\n",
    "        'ffmpeg_location': ffmpeg_location  # FFmpeg location (required for merging).\n",
    "    }\n",
    "    \n",
    "    # Ensure the output directory exists.\n",
    "    os.makedirs(output_directory, exist_ok=True)\n",
    "\n",
    "    # Use yt_dlp to download the video and subtitles.\n",
    "    with yt_dlp.YoutubeDL(ydl_opts) as ydl:\n",
    "        _ = ydl.extract_info(url_video, download=False)\n",
    "        # Create the output file path using the provided title and artist.\n",
    "        output_filename = f\"song_txt_{video_title}_{artist_name}.txt\"\n",
    "        output_filepath = os.path.join(output_directory, output_filename)\n",
    "        \n",
    "        # Download the subtitles.\n",
    "        ydl.download([url_video])\n",
    "        \n",
    "        # Look for the temporary subtitle file.\n",
    "        subtitle_path = None\n",
    "        for ext in ['en.vtt', 'en-orig.vtt']:\n",
    "            temp_path = f\"song_temp.{ext}\"\n",
    "            if os.path.exists(temp_path):\n",
    "                subtitle_path = temp_path\n",
    "                break\n",
    "\n",
    "        if subtitle_path:\n",
    "            # Read the subtitle file.\n",
    "            with open(subtitle_path, 'r', encoding='utf-8') as file:\n",
    "                subtitle_content = file.read()\n",
    "\n",
    "            # Regular expression to match timestamps (format: hh:mm:ss.mmm --> hh:mm:ss.mmm).\n",
    "            timestamp_pattern = re.compile(\n",
    "                r\"(\\d{2}):(\\d{2}):(\\d{2})\\.(\\d{3}) --> \"\n",
    "                r\"(\\d{2}):(\\d{2}):(\\d{2})\\.(\\d{3})\"\n",
    "            )\n",
    "            lines = subtitle_content.splitlines()\n",
    "\n",
    "            # Write the output file with header metadata and subtitles with timestamps.\n",
    "            try:\n",
    "                with open(output_filepath, 'w', encoding='utf-8') as f:\n",
    "                    # Write header required by All Karaoke Party.\n",
    "                    f.write(f\"Title: {video_title}\\n\")\n",
    "                    f.write(f\"Artist: {artist_name}\\n\")\n",
    "                    f.write(\"\\n\")  # Blank line after header.\n",
    "                    \n",
    "                    content_written = False\n",
    "                    for i, line in enumerate(lines):\n",
    "                        line = line.strip()\n",
    "                        match = timestamp_pattern.match(line)\n",
    "                        if match:\n",
    "                            start_time = f\"{match.group(1)}:{match.group(2)}:{match.group(3)}.{match.group(4)}\"\n",
    "                            end_time = f\"{match.group(5)}:{match.group(6)}:{match.group(7)}.{match.group(8)}\"\n",
    "                            # The next line typically contains the subtitle text.\n",
    "                            if i + 1 < len(lines):\n",
    "                                subtitle_text = lines[i + 1].strip()\n",
    "                                f.write(f\"{start_time} - {end_time} {subtitle_text}\\n\")\n",
    "                                content_written = True\n",
    "                    if not content_written:\n",
    "                        print(\"Warning: No subtitle content was written to the file.\")\n",
    "                    else:\n",
    "                        print(f\"Subtitles saved to: {output_filepath}\")\n",
    "            except Exception as e:\n",
    "                print(f\"Error writing to file: {e}\")\n",
    "            # Remove the temporary subtitle file.\n",
    "            os.remove(subtitle_path)\n",
    "        else:\n",
    "            print(\"No subtitles found for this video.\")\n",
    "\n"
   ]
  },
  {
   "cell_type": "code",
   "execution_count": null,
   "metadata": {},
   "outputs": [],
   "source": [
    "# Example usage:\n",
    "if __name__ == \"__main__\":\n",
    "    # Provide the full path to your FFmpeg executable (required for merging streams).\n",
    "    ffmpeg_path = r'C:\\Users\\usuario\\Anaconda3\\envs\\songtotxt\\Library\\bin\\ffmpeg.exe'\n",
    "    \n",
    "    # Set your desired output directory.\n",
    "    output_dir = r\"C:\\Users\\usuario\\Desktop\\MÉS\\Karaoke\"\n",
    "    \n",
    "    # Provide the YouTube video URL.\n",
    "    video_url = \"https://www.youtube.com/watch?v=F3aXpa1rQEY\"\n",
    "    \n",
    "    # Provide the song title and artist name.\n",
    "    video_title = \"the_man\"\n",
    "    artist_name = \"taylor_swift\"\n",
    "    \n",
    "    # Download and save the subtitles.\n",
    "    download_youtube_subtitles(\n",
    "        url_video=video_url,\n",
    "        output_directory=output_dir,\n",
    "        ffmpeg_location=ffmpeg_path,\n",
    "        video_title=video_title,\n",
    "        artist_name=artist_name\n",
    "    )"
   ]
  }
 ],
 "metadata": {
  "kernelspec": {
   "display_name": "Python (songtotxt)",
   "language": "python",
   "name": "songtotxt"
  },
  "language_info": {
   "codemirror_mode": {
    "name": "ipython",
    "version": 3
   },
   "file_extension": ".py",
   "mimetype": "text/x-python",
   "name": "python",
   "nbconvert_exporter": "python",
   "pygments_lexer": "ipython3",
   "version": "3.13.2"
  },
  "toc": {
   "base_numbering": 1,
   "nav_menu": {},
   "number_sections": true,
   "sideBar": true,
   "skip_h1_title": false,
   "title_cell": "Table of Contents",
   "title_sidebar": "Contents",
   "toc_cell": false,
   "toc_position": {},
   "toc_section_display": true,
   "toc_window_display": false
  },
  "varInspector": {
   "cols": {
    "lenName": 16,
    "lenType": 16,
    "lenVar": 40
   },
   "kernels_config": {
    "python": {
     "delete_cmd_postfix": "",
     "delete_cmd_prefix": "del ",
     "library": "var_list.py",
     "varRefreshCmd": "print(var_dic_list())"
    },
    "r": {
     "delete_cmd_postfix": ") ",
     "delete_cmd_prefix": "rm(",
     "library": "var_list.r",
     "varRefreshCmd": "cat(var_dic_list()) "
    }
   },
   "types_to_exclude": [
    "module",
    "function",
    "builtin_function_or_method",
    "instance",
    "_Feature"
   ],
   "window_display": false
  }
 },
 "nbformat": 4,
 "nbformat_minor": 2
}
