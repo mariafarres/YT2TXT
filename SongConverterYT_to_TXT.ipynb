{
 "cells": [
  {
   "cell_type": "markdown",
   "metadata": {},
   "source": [
    "## Paso 1: Instalar las dependencias necesarias\n",
    "\n",
    "Bibliotecas para trabajar:\n",
    "* pip install pytube moviepy youtube-transcript-api\n",
    "* pytube: Para descargar el video de YouTube.\n",
    "* moviepy: Para extraer el audio del video.\n",
    "* youtube-transcript-api: Para obtener la transcripción automática de YouTube (subtítulos generados automáticamente)."
   ]
  },
  {
   "cell_type": "code",
   "execution_count": 9,
   "metadata": {},
   "outputs": [
    {
     "name": "stdout",
     "output_type": "stream",
     "text": [
      "C:\\Users\\usuario\\Anaconda3\\envs\\songtotxt\\python.exe\n"
     ]
    }
   ],
   "source": [
    "# asegurar que estamos en el environment correcto\n",
    "\n",
    "import sys\n",
    "print(sys.executable)"
   ]
  },
  {
   "cell_type": "code",
   "execution_count": 13,
   "metadata": {},
   "outputs": [
    {
     "name": "stdout",
     "output_type": "stream",
     "text": [
      "Requirement already satisfied: yt-dlp in c:\\users\\usuario\\anaconda3\\envs\\songtotxt\\lib\\site-packages (2025.3.21)\n"
     ]
    }
   ],
   "source": [
    "!{sys.executable} -m pip install yt-dlp"
   ]
  },
  {
   "cell_type": "code",
   "execution_count": 26,
   "metadata": {},
   "outputs": [],
   "source": [
    "import yt_dlp\n",
    "import os\n",
    "import re"
   ]
  },
  {
   "cell_type": "markdown",
   "metadata": {},
   "source": [
    "------"
   ]
  },
  {
   "cell_type": "markdown",
   "metadata": {},
   "source": [
    "**Ejecutar en conda dentro de mi environment para ver si la canción tiene subtitulos**\n",
    "\n",
    "yt-dlp --list-subs \"https://www.youtube.com/watch?v=dQw4w9WgXcQ\""
   ]
  },
  {
   "cell_type": "markdown",
   "metadata": {},
   "source": [
    "------"
   ]
  },
  {
   "cell_type": "code",
   "execution_count": 31,
   "metadata": {},
   "outputs": [
    {
     "name": "stdout",
     "output_type": "stream",
     "text": [
      "[youtube] Extracting URL: https://www.youtube.com/watch?v=F3aXpa1rQEY\n",
      "[youtube] F3aXpa1rQEY: Downloading webpage\n",
      "[youtube] F3aXpa1rQEY: Downloading tv client config\n",
      "[youtube] F3aXpa1rQEY: Downloading player 643afba4\n",
      "[youtube] F3aXpa1rQEY: Downloading tv player API JSON\n",
      "[youtube] F3aXpa1rQEY: Downloading ios player API JSON\n",
      "[youtube] F3aXpa1rQEY: Downloading m3u8 information\n",
      "[info] F3aXpa1rQEY: Downloading subtitles: en\n"
     ]
    },
    {
     "name": "stderr",
     "output_type": "stream",
     "text": [
      "WARNING: ffmpeg not found. The downloaded format may not be the best available. Installing ffmpeg is strongly recommended: https://github.com/yt-dlp/yt-dlp#dependencies\n"
     ]
    },
    {
     "name": "stdout",
     "output_type": "stream",
     "text": [
      "[youtube] Extracting URL: https://www.youtube.com/watch?v=F3aXpa1rQEY\n",
      "[youtube] F3aXpa1rQEY: Downloading webpage\n",
      "[youtube] F3aXpa1rQEY: Downloading tv client config\n",
      "[youtube] F3aXpa1rQEY: Downloading tv player API JSON\n",
      "[youtube] F3aXpa1rQEY: Downloading ios player API JSON\n",
      "[youtube] F3aXpa1rQEY: Downloading m3u8 information\n",
      "[info] F3aXpa1rQEY: Downloading subtitles: en\n"
     ]
    },
    {
     "name": "stderr",
     "output_type": "stream",
     "text": [
      "WARNING: ffmpeg not found. The downloaded format may not be the best available. Installing ffmpeg is strongly recommended: https://github.com/yt-dlp/yt-dlp#dependencies\n"
     ]
    },
    {
     "name": "stdout",
     "output_type": "stream",
     "text": [
      "[info] F3aXpa1rQEY: Downloading 1 format(s): 18\n",
      "[info] Writing video subtitles to: cancion_temp.en.vtt\n",
      "[hlsnative] Downloading m3u8 manifest\n",
      "[hlsnative] Total fragments: 1\n",
      "[download] Destination: cancion_temp.en.vtt\n",
      "[download] 100% of    4.10KiB in 00:00:00 at 50.02KiB/s                \n",
      "[download] cancion_temp.mp4 has already been downloaded\n",
      "[download] 100% of    3.30MiB\n",
      "El archivo de letra de la canción se ha guardado como C:\\Users\\usuario\\Desktop\\MÉS\\Karaoke\\cancion_txt_the_man_taylor_swift.txt\n"
     ]
    }
   ],
   "source": [
    "def descargar_subtitulos_youtube(url_video):\n",
    "    # Configuración para descargar subtítulos en inglés\n",
    "    ydl_opts = {\n",
    "        'writeautomaticsub': True,   # Descargar subtítulos automáticos\n",
    "        'writesubtitles': True,      # Descargar subtítulos manuales (si están disponibles)\n",
    "        'subtitleslangs': ['en', 'en-orig'],  # Subtítulos en inglés o en inglés original\n",
    "        'outtmpl': 'cancion_temp.%(ext)s',    # Nombre temporal para el archivo\n",
    "        'quiet': False,\n",
    "    }\n",
    "\n",
    "    # Directorio donde guardar el archivo final de texto\n",
    "    output_directory = r\"C:\\Users\\usuario\\Desktop\\MÉS\\Karaoke\"\n",
    "    os.makedirs(output_directory, exist_ok=True)\n",
    "\n",
    "    # Descargar el video y los subtítulos\n",
    "    with yt_dlp.YoutubeDL(ydl_opts) as ydl:\n",
    "        info_dict = ydl.extract_info(url_video, download=False)\n",
    "        # Título y artista que proporcionaste\n",
    "        video_title = \"the_man\"  # Título de la canción\n",
    "        artist_name = \"taylor_swift\"  # Artista de la canción\n",
    "\n",
    "        # Nombre del archivo de salida basado en el título y el artista\n",
    "        output_filename = f\"cancion_txt_{video_title}_{artist_name}.txt\"\n",
    "        output_filepath = os.path.join(output_directory, output_filename)\n",
    "\n",
    "        # Descargar los subtítulos\n",
    "        ydl.download([url_video])\n",
    "\n",
    "        # Cambiar el nombre del archivo de subtítulos\n",
    "        subtitulo_path = None\n",
    "        for ext in ['en.vtt', 'en-orig.vtt']:\n",
    "            if os.path.exists(f\"cancion_temp.{ext}\"):\n",
    "                subtitulo_path = f\"cancion_temp.{ext}\"\n",
    "                break\n",
    "\n",
    "        if subtitulo_path:\n",
    "            # Leer el archivo de subtítulos\n",
    "            with open(subtitulo_path, 'r', encoding='utf-8') as file:\n",
    "                contenido_subtitulos = file.read()\n",
    "\n",
    "            # Expresión regular actualizada para capturar timestamps y subtítulos\n",
    "            # Coincide con el formato: 00:00:05.666 --> 00:00:07.600\n",
    "            timestamp_pattern = re.compile(r\"(\\d{2}):(\\d{2}):(\\d{2})\\.(\\d{3}) --> (\\d{2}):(\\d{2}):(\\d{2})\\.(\\d{3})\")\n",
    "            lines = contenido_subtitulos.splitlines()\n",
    "\n",
    "            # Abrir el archivo de salida para escribir los subtítulos con timestamps\n",
    "            try:\n",
    "                with open(output_filepath, 'w', encoding='utf-8') as f:\n",
    "                    content_written = False  # Variable para verificar si se ha escrito algo\n",
    "                    for i, line in enumerate(lines):\n",
    "                        line = line.strip()\n",
    "\n",
    "                        # Buscar las líneas que contienen las marcas de tiempo\n",
    "                        match = timestamp_pattern.match(line)\n",
    "                        if match:\n",
    "                            # Formatear las marcas de tiempo (hh:mm:ss.mmm)\n",
    "                            start_time = f\"{match.group(1)}:{match.group(2)}:{match.group(3)}.{match.group(4)}\"\n",
    "                            end_time = f\"{match.group(5)}:{match.group(6)}:{match.group(7)}.{match.group(8)}\"\n",
    "                            \n",
    "                            # La siguiente línea generalmente contiene el texto de los subtítulos\n",
    "                            if i + 1 < len(lines):\n",
    "                                lyrics_line = lines[i + 1].strip()\n",
    "                                # Escribir el timestamp y la letra en el archivo de salida\n",
    "                                f.write(f\"{start_time} - {end_time} {lyrics_line}\\n\")\n",
    "                                content_written = True  # Marcar que se ha escrito algo\n",
    "\n",
    "                    # Si no se ha escrito nada, emitir advertencia\n",
    "                    if not content_written:\n",
    "                        print(\"Advertencia: No se ha escrito contenido en el archivo.\")\n",
    "                    else:\n",
    "                        print(f\"El archivo de letra de la canción se ha guardado como {output_filepath}\")\n",
    "            except Exception as e:\n",
    "                print(f\"Error al escribir en el archivo: {e}\")\n",
    "            \n",
    "            # Eliminar el archivo temporal .vtt\n",
    "            os.remove(subtitulo_path)\n",
    "\n",
    "        else:\n",
    "            print(\"No se encontraron subtítulos para este video.\")\n",
    "\n",
    "# Ingresar la URL del video de YouTube (puedes reemplazar esta URL con la que desees)\n",
    "url_video = \"https://www.youtube.com/watch?v=F3aXpa1rQEY\"  # Reemplaza con la URL de tu video\n",
    "\n",
    "# Descargar y guardar los subtítulos en un archivo de texto\n",
    "descargar_subtitulos_youtube(url_video)"
   ]
  }
 ],
 "metadata": {
  "kernelspec": {
   "display_name": "Python (songtotxt)",
   "language": "python",
   "name": "songtotxt"
  },
  "language_info": {
   "codemirror_mode": {
    "name": "ipython",
    "version": 3
   },
   "file_extension": ".py",
   "mimetype": "text/x-python",
   "name": "python",
   "nbconvert_exporter": "python",
   "pygments_lexer": "ipython3",
   "version": "3.13.2"
  },
  "toc": {
   "base_numbering": 1,
   "nav_menu": {},
   "number_sections": true,
   "sideBar": true,
   "skip_h1_title": false,
   "title_cell": "Table of Contents",
   "title_sidebar": "Contents",
   "toc_cell": false,
   "toc_position": {},
   "toc_section_display": true,
   "toc_window_display": false
  },
  "varInspector": {
   "cols": {
    "lenName": 16,
    "lenType": 16,
    "lenVar": 40
   },
   "kernels_config": {
    "python": {
     "delete_cmd_postfix": "",
     "delete_cmd_prefix": "del ",
     "library": "var_list.py",
     "varRefreshCmd": "print(var_dic_list())"
    },
    "r": {
     "delete_cmd_postfix": ") ",
     "delete_cmd_prefix": "rm(",
     "library": "var_list.r",
     "varRefreshCmd": "cat(var_dic_list()) "
    }
   },
   "types_to_exclude": [
    "module",
    "function",
    "builtin_function_or_method",
    "instance",
    "_Feature"
   ],
   "window_display": false
  }
 },
 "nbformat": 4,
 "nbformat_minor": 2
}
